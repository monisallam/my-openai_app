{
  "cells": [
    {
      "cell_type": "code",
      "metadata": {},
      "source": [
        "\n",
        "\n",
        "import pandas as pd\n",
        "import numpy as np\n",
        "import matplotlib.pyplot as plt\n",
        "import seaborn as sns\n",
        "\n",
        "# fetch csv file at url 'https://github.com/fivethirtyeight/data/blob/master/polls/pres_pollaverages_1968-2016.csv' and read into DataFrame\n",
        "df = pd.read_csv('https://github.com/fivethirtyeight/data/blob/master/polls/pres_pollaverages_1968-2016.csv?raw=true')\n",
        "\n",
        "# print first 5 rows of DataFrame\n",
        "print(df.head())\n",
        "\n",
        "# print the shape of the DataFrame\n",
        "print(df.shape)\n",
        "\n",
        "# print the columns of the DataFrame\n",
        "print(df.columns)\n",
        "\n",
        "# print the data types of the DataFrame\n",
        "print(df.dtypes)\n",
        "\n",
        "# print the summary statistics of the DataFrame\n",
        "print(df.describe())\n",
        "\n",
        "# print the info of the DataFrame\n",
        "print(df.info())\n",
        "\n",
        "# print the number of non-missing values in each column\n",
        "print(df.count())\n",
        "\n",
        "# print the number of missing values in each column\n",
        "print(df.isnull().sum())\n",
        "\n",
        "# print the number of unique values in each column\n",
        "print(df.nunique())\n",
        "\n"
      ],
      "outputs": [],
      "execution_count": null
    }
  ],
  "metadata": {
    "anaconda-cloud": {},
    "kernelspec": {
      "display_name": "Python 3",
      "language": "python",
      "name": "python3"
    },
    "language_info": {
      "codemirror_mode": {
        "name": "ipython",
        "version": 3
      },
      "file_extension": ".py",
      "mimetype": "text/x-python",
      "name": "python",
      "nbconvert_exporter": "python",
      "pygments_lexer": "ipython3",
      "version": "3.6.1"
    }
  },
  "nbformat": 4,
  "nbformat_minor": 4
}